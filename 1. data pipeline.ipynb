{
 "cells": [
  {
   "cell_type": "code",
   "execution_count": 1,
   "metadata": {},
   "outputs": [],
   "source": [
    "import pandas as pd\n",
    "import utils as utils\n",
    "from sklearn.model_selection import train_test_split"
   ]
  },
  {
   "cell_type": "markdown",
   "metadata": {},
   "source": [
    "LOAD CONFIG FILE"
   ]
  },
  {
   "cell_type": "code",
   "execution_count": 2,
   "metadata": {},
   "outputs": [
    {
     "data": {
      "text/plain": [
       "{'raw_dataset_path': 'E:\\\\PACMAN\\\\Credit Score\\\\Data\\\\Raw\\\\data.csv',\n",
       " 'data_set_path': 'E:\\\\PACMAN\\\\Credit Score\\\\Data\\\\Output\\\\data.pkl',\n",
       " 'input_set_path': 'E:\\\\PACMAN\\\\Credit Score\\\\Data\\\\Output\\\\input.pkl',\n",
       " 'output_set_path': 'E:\\\\PACMAN\\\\Credit Score\\\\Data\\\\Output\\\\output.pkl',\n",
       " 'input_columns_path': 'E:\\\\PACMAN\\\\Credit Score\\\\Data\\\\Output\\\\input_columns.pkl',\n",
       " 'train_set_path': ['E:\\\\PACMAN\\\\Credit Score\\\\Data\\\\Output\\\\X_train.pkl',\n",
       "  'E:\\\\PACMAN\\\\Credit Score\\\\Data\\\\Output\\\\y_train.pkl'],\n",
       " 'valid_set_path': ['E:\\\\PACMAN\\\\Credit Score\\\\Data\\\\Output\\\\X_valid.pkl',\n",
       "  'E:\\\\PACMAN\\\\Credit Score\\\\Data\\\\Output\\\\y_valid.pkl'],\n",
       " 'test_set_path': ['E:\\\\PACMAN\\\\Credit Score\\\\Data\\\\Output\\\\X_test.pkl',\n",
       "  'E:\\\\PACMAN\\\\Credit Score\\\\Data\\\\Output\\\\y_test.pkl'],\n",
       " 'index_column': 'Unnamed: 0',\n",
       " 'output_column': 'SeriousDlqin2yrs',\n",
       " 'seed': 42,\n",
       " 'test_size': 0.2}"
      ]
     },
     "execution_count": 2,
     "metadata": {},
     "output_type": "execute_result"
    }
   ],
   "source": [
    "CONFIG_DATA = utils.config_load()\n",
    "CONFIG_DATA"
   ]
  },
  {
   "cell_type": "code",
   "execution_count": 3,
   "metadata": {},
   "outputs": [],
   "source": [
    "def read_data(return_file=True):\n",
    "    # Read data\n",
    "    data = pd.read_csv(CONFIG_DATA['raw_dataset_path'], \n",
    "                       sep=',',\n",
    "                       index_col=CONFIG_DATA['index_column'])\n",
    "\n",
    "    # Print data\n",
    "    print('data shape   :', data.shape)\n",
    "\n",
    "    # Dump data\n",
    "    utils.pickle_dump(data, CONFIG_DATA['data_set_path'])\n",
    "\n",
    "    # Return data\n",
    "    if return_file:\n",
    "        return data"
   ]
  },
  {
   "cell_type": "code",
   "execution_count": 4,
   "metadata": {},
   "outputs": [
    {
     "name": "stdout",
     "output_type": "stream",
     "text": [
      "data shape   : (150000, 11)\n"
     ]
    },
    {
     "data": {
      "text/html": [
       "<div>\n",
       "<style scoped>\n",
       "    .dataframe tbody tr th:only-of-type {\n",
       "        vertical-align: middle;\n",
       "    }\n",
       "\n",
       "    .dataframe tbody tr th {\n",
       "        vertical-align: top;\n",
       "    }\n",
       "\n",
       "    .dataframe thead th {\n",
       "        text-align: right;\n",
       "    }\n",
       "</style>\n",
       "<table border=\"1\" class=\"dataframe\">\n",
       "  <thead>\n",
       "    <tr style=\"text-align: right;\">\n",
       "      <th></th>\n",
       "      <th>1</th>\n",
       "      <th>2</th>\n",
       "      <th>3</th>\n",
       "      <th>4</th>\n",
       "      <th>5</th>\n",
       "    </tr>\n",
       "  </thead>\n",
       "  <tbody>\n",
       "    <tr>\n",
       "      <th>SeriousDlqin2yrs</th>\n",
       "      <td>1.000000</td>\n",
       "      <td>0.000000</td>\n",
       "      <td>0.000000</td>\n",
       "      <td>0.00000</td>\n",
       "      <td>0.000000</td>\n",
       "    </tr>\n",
       "    <tr>\n",
       "      <th>RevolvingUtilizationOfUnsecuredLines</th>\n",
       "      <td>0.766127</td>\n",
       "      <td>0.957151</td>\n",
       "      <td>0.658180</td>\n",
       "      <td>0.23381</td>\n",
       "      <td>0.907239</td>\n",
       "    </tr>\n",
       "    <tr>\n",
       "      <th>age</th>\n",
       "      <td>45.000000</td>\n",
       "      <td>40.000000</td>\n",
       "      <td>38.000000</td>\n",
       "      <td>30.00000</td>\n",
       "      <td>49.000000</td>\n",
       "    </tr>\n",
       "    <tr>\n",
       "      <th>NumberOfTime30-59DaysPastDueNotWorse</th>\n",
       "      <td>2.000000</td>\n",
       "      <td>0.000000</td>\n",
       "      <td>1.000000</td>\n",
       "      <td>0.00000</td>\n",
       "      <td>1.000000</td>\n",
       "    </tr>\n",
       "    <tr>\n",
       "      <th>DebtRatio</th>\n",
       "      <td>0.802982</td>\n",
       "      <td>0.121876</td>\n",
       "      <td>0.085113</td>\n",
       "      <td>0.03605</td>\n",
       "      <td>0.024926</td>\n",
       "    </tr>\n",
       "    <tr>\n",
       "      <th>MonthlyIncome</th>\n",
       "      <td>9120.000000</td>\n",
       "      <td>2600.000000</td>\n",
       "      <td>3042.000000</td>\n",
       "      <td>3300.00000</td>\n",
       "      <td>63588.000000</td>\n",
       "    </tr>\n",
       "    <tr>\n",
       "      <th>NumberOfOpenCreditLinesAndLoans</th>\n",
       "      <td>13.000000</td>\n",
       "      <td>4.000000</td>\n",
       "      <td>2.000000</td>\n",
       "      <td>5.00000</td>\n",
       "      <td>7.000000</td>\n",
       "    </tr>\n",
       "    <tr>\n",
       "      <th>NumberOfTimes90DaysLate</th>\n",
       "      <td>0.000000</td>\n",
       "      <td>0.000000</td>\n",
       "      <td>1.000000</td>\n",
       "      <td>0.00000</td>\n",
       "      <td>0.000000</td>\n",
       "    </tr>\n",
       "    <tr>\n",
       "      <th>NumberRealEstateLoansOrLines</th>\n",
       "      <td>6.000000</td>\n",
       "      <td>0.000000</td>\n",
       "      <td>0.000000</td>\n",
       "      <td>0.00000</td>\n",
       "      <td>1.000000</td>\n",
       "    </tr>\n",
       "    <tr>\n",
       "      <th>NumberOfTime60-89DaysPastDueNotWorse</th>\n",
       "      <td>0.000000</td>\n",
       "      <td>0.000000</td>\n",
       "      <td>0.000000</td>\n",
       "      <td>0.00000</td>\n",
       "      <td>0.000000</td>\n",
       "    </tr>\n",
       "    <tr>\n",
       "      <th>NumberOfDependents</th>\n",
       "      <td>2.000000</td>\n",
       "      <td>1.000000</td>\n",
       "      <td>0.000000</td>\n",
       "      <td>0.00000</td>\n",
       "      <td>0.000000</td>\n",
       "    </tr>\n",
       "  </tbody>\n",
       "</table>\n",
       "</div>"
      ],
      "text/plain": [
       "                                                1            2            3  \\\n",
       "SeriousDlqin2yrs                         1.000000     0.000000     0.000000   \n",
       "RevolvingUtilizationOfUnsecuredLines     0.766127     0.957151     0.658180   \n",
       "age                                     45.000000    40.000000    38.000000   \n",
       "NumberOfTime30-59DaysPastDueNotWorse     2.000000     0.000000     1.000000   \n",
       "DebtRatio                                0.802982     0.121876     0.085113   \n",
       "MonthlyIncome                         9120.000000  2600.000000  3042.000000   \n",
       "NumberOfOpenCreditLinesAndLoans         13.000000     4.000000     2.000000   \n",
       "NumberOfTimes90DaysLate                  0.000000     0.000000     1.000000   \n",
       "NumberRealEstateLoansOrLines             6.000000     0.000000     0.000000   \n",
       "NumberOfTime60-89DaysPastDueNotWorse     0.000000     0.000000     0.000000   \n",
       "NumberOfDependents                       2.000000     1.000000     0.000000   \n",
       "\n",
       "                                               4             5  \n",
       "SeriousDlqin2yrs                         0.00000      0.000000  \n",
       "RevolvingUtilizationOfUnsecuredLines     0.23381      0.907239  \n",
       "age                                     30.00000     49.000000  \n",
       "NumberOfTime30-59DaysPastDueNotWorse     0.00000      1.000000  \n",
       "DebtRatio                                0.03605      0.024926  \n",
       "MonthlyIncome                         3300.00000  63588.000000  \n",
       "NumberOfOpenCreditLinesAndLoans          5.00000      7.000000  \n",
       "NumberOfTimes90DaysLate                  0.00000      0.000000  \n",
       "NumberRealEstateLoansOrLines             0.00000      1.000000  \n",
       "NumberOfTime60-89DaysPastDueNotWorse     0.00000      0.000000  \n",
       "NumberOfDependents                       0.00000      0.000000  "
      ]
     },
     "execution_count": 4,
     "metadata": {},
     "output_type": "execute_result"
    }
   ],
   "source": [
    "data = read_data()\n",
    "data.head().T"
   ]
  },
  {
   "cell_type": "markdown",
   "metadata": {},
   "source": [
    "Splitting Data"
   ]
  },
  {
   "cell_type": "markdown",
   "metadata": {},
   "source": [
    "Split Input & Output"
   ]
  },
  {
   "cell_type": "code",
   "execution_count": 5,
   "metadata": {},
   "outputs": [],
   "source": [
    "def split_input_output(return_file=True):\n",
    "    # Read data\n",
    "    data = utils.pickle_load(CONFIG_DATA['data_set_path'])\n",
    "\n",
    "    # Split input & output\n",
    "    y = data[CONFIG_DATA['output_column']]\n",
    "    X = data.drop([CONFIG_DATA['output_column']], axis=1)\n",
    "\n",
    "    # Print splitting\n",
    "    print('Input shape  :', X.shape)\n",
    "    print('Output shape :', y.shape)\n",
    "    print('Input NAN    :')\n",
    "    print(X.isnull().sum())\n",
    "    print('Benchmark    :')\n",
    "    print(y.value_counts(normalize=True))\n",
    "    \n",
    "    # Dump file\n",
    "    utils.pickle_dump(X, CONFIG_DATA['input_set_path'])\n",
    "    utils.pickle_dump(y, CONFIG_DATA['output_set_path'])\n",
    "    utils.pickle_dump(X.columns, CONFIG_DATA['input_columns_path'])     # dump input columns\n",
    "\n",
    "    if return_file:\n",
    "        return X, y"
   ]
  },
  {
   "cell_type": "code",
   "execution_count": 6,
   "metadata": {},
   "outputs": [
    {
     "name": "stdout",
     "output_type": "stream",
     "text": [
      "Input shape  : (150000, 10)\n",
      "Output shape : (150000,)\n",
      "Input NAN    :\n",
      "RevolvingUtilizationOfUnsecuredLines        0\n",
      "age                                         0\n",
      "NumberOfTime30-59DaysPastDueNotWorse        0\n",
      "DebtRatio                                   0\n",
      "MonthlyIncome                           29731\n",
      "NumberOfOpenCreditLinesAndLoans             0\n",
      "NumberOfTimes90DaysLate                     0\n",
      "NumberRealEstateLoansOrLines                0\n",
      "NumberOfTime60-89DaysPastDueNotWorse        0\n",
      "NumberOfDependents                       3924\n",
      "dtype: int64\n",
      "Benchmark    :\n",
      "0    0.93316\n",
      "1    0.06684\n",
      "Name: SeriousDlqin2yrs, dtype: float64\n"
     ]
    }
   ],
   "source": [
    "X, y = split_input_output()"
   ]
  },
  {
   "cell_type": "code",
   "execution_count": 7,
   "metadata": {},
   "outputs": [],
   "source": [
    "def split_train_test(return_file=True):\n",
    "    # Load data\n",
    "    X = utils.pickle_load(CONFIG_DATA['input_set_path'])\n",
    "    y = utils.pickle_load(CONFIG_DATA['output_set_path'])\n",
    "\n",
    "    # Split test & rest (train & valid)\n",
    "    X_train, X_test, y_train, y_test = train_test_split(\n",
    "                                            X,\n",
    "                                            y,\n",
    "                                            test_size = CONFIG_DATA['test_size'],\n",
    "                                            random_state = CONFIG_DATA['seed']\n",
    "                                        )\n",
    "    \n",
    "    # Split train & valid\n",
    "    X_train, X_valid, y_train, y_valid = train_test_split(\n",
    "                                            X_train,\n",
    "                                            y_train,\n",
    "                                            test_size = CONFIG_DATA['test_size'],\n",
    "                                            random_state = CONFIG_DATA['seed']\n",
    "                                        )\n",
    "    \n",
    "    # Print splitting\n",
    "    print('X_train shape :', X_train.shape)\n",
    "    print('y_train shape :', y_train.shape)\n",
    "    print('X_valid shape  :', X_valid.shape)\n",
    "    print('y_valid shape  :', y_valid.shape)\n",
    "    print('X_test shape  :', X_test.shape)\n",
    "    print('y_test shape  :', y_test.shape)\n",
    "\n",
    "    # Dump file\n",
    "    utils.pickle_dump(X_train, CONFIG_DATA['train_set_path'][0])\n",
    "    utils.pickle_dump(y_train, CONFIG_DATA['train_set_path'][1])\n",
    "    utils.pickle_dump(X_valid, CONFIG_DATA['valid_set_path'][0])\n",
    "    utils.pickle_dump(y_valid, CONFIG_DATA['valid_set_path'][1])\n",
    "    utils.pickle_dump(X_test, CONFIG_DATA['test_set_path'][0])\n",
    "    utils.pickle_dump(y_test, CONFIG_DATA['test_set_path'][1])\n",
    "\n",
    "    if return_file:\n",
    "        return X_train, X_valid, X_test, y_train, y_valid, y_test"
   ]
  },
  {
   "cell_type": "code",
   "execution_count": 8,
   "metadata": {},
   "outputs": [
    {
     "name": "stdout",
     "output_type": "stream",
     "text": [
      "X_train shape : (96000, 10)\n",
      "y_train shape : (96000,)\n",
      "X_valid shape  : (24000, 10)\n",
      "y_valid shape  : (24000,)\n",
      "X_test shape  : (30000, 10)\n",
      "y_test shape  : (30000,)\n"
     ]
    }
   ],
   "source": [
    "X_train, X_valid, X_test, y_train, y_valid, y_test = split_train_test()"
   ]
  }
 ],
 "metadata": {
  "kernelspec": {
   "display_name": "Python 3",
   "language": "python",
   "name": "python3"
  },
  "language_info": {
   "codemirror_mode": {
    "name": "ipython",
    "version": 3
   },
   "file_extension": ".py",
   "mimetype": "text/x-python",
   "name": "python",
   "nbconvert_exporter": "python",
   "pygments_lexer": "ipython3",
   "version": "3.10.4"
  },
  "orig_nbformat": 4
 },
 "nbformat": 4,
 "nbformat_minor": 2
}
